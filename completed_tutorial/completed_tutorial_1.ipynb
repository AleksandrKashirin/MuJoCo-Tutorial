{
 "cells": [
  {
   "cell_type": "markdown",
   "metadata": {},
   "source": [
    "# MuJoCo basics\n",
    "\n",
    "We begin by defining and loading a simple model:"
   ]
  },
  {
   "cell_type": "code",
   "execution_count": 1,
   "metadata": {},
   "outputs": [],
   "source": [
    "import mujoco  # Симулятор\n",
    "import mediapy as media  # Просмотр картинок и видео в ноутбуках\n",
    "import numpy as np\n",
    "\n",
    "# Создание простейшей модели в XML формате\n",
    "xml = \"\"\"\n",
    "<mujoco>\n",
    "    <worldbody>\n",
    "        <geom name=\"red_box\" type=\"box\" size=\".2 .2 .2\" rgba=\"1 0 0 1\"/>\n",
    "        <geom name=\"green_sphere\" pos=\".2 .2 .2\" size=\".1\" rgba=\"0 1 0 1\"/>\n",
    "    </worldbody>\n",
    "</mujoco>\n",
    "\"\"\"\n",
    "model = mujoco.MjModel.from_xml_string(xml)"
   ]
  },
  {
   "cell_type": "markdown",
   "metadata": {},
   "source": [
    "The `xml` string is written in MuJoCo's [MJCF](http://www.mujoco.org/book/modeling.html), which is an [XML](https://en.wikipedia.org/wiki/XML#Key_terminology)-based modeling language.\n",
    "  - The only required element is `<mujoco>`. The smallest valid MJCF model is `<mujoco/>` which is a completely empty model.\n",
    "  - All physical elements live inside the `<worldbody>` which is always the top-level body and constitutes the global origin in Cartesian coordinates.\n",
    "  - We define two geoms in the world named `red_box` and `green_sphere`.\n",
    "  - **Question:** The `red_box` has no position, the `green_sphere` has no type, why is that?\n",
    "    - **Answer:** MJCF attributes have *default values*. The default position is `0 0 0`, the default geom type is `sphere`. The MJCF language is described in the documentation's [XML Reference chapter](https://mujoco.readthedocs.io/en/latest/XMLreference.html).\n",
    "\n",
    "The `from_xml_string()` method invokes the model compiler, which creates a binary `mjModel` instance."
   ]
  },
  {
   "cell_type": "markdown",
   "metadata": {},
   "source": [
    "## mjModel\n",
    "\n",
    "MuJoCo's `mjModel`, contains the *model description*, i.e., all quantities which *do not change over time*. The complete description of `mjModel` can be found at the end of the header file [`mjmodel.h`](https://github.com/deepmind/mujoco/blob/main/include/mujoco/mjmodel.h). Note that the header files contain short, useful inline comments, describing each field.\n",
    "\n",
    "Examples of quantities that can be found in `mjModel` are `ngeom`, the number of geoms in the scene and `geom_rgba`, their respective colors:"
   ]
  },
  {
   "cell_type": "code",
   "execution_count": 2,
   "metadata": {},
   "outputs": [
    {
     "data": {
      "text/plain": [
       "2"
      ]
     },
     "execution_count": 2,
     "metadata": {},
     "output_type": "execute_result"
    }
   ],
   "source": [
    "model.ngeom  # Количество геометрических объектов в сцене"
   ]
  },
  {
   "cell_type": "code",
   "execution_count": 3,
   "metadata": {},
   "outputs": [
    {
     "data": {
      "text/plain": [
       "array([[1., 0., 0., 1.],\n",
       "       [0., 1., 0., 1.]], dtype=float32)"
      ]
     },
     "execution_count": 3,
     "metadata": {},
     "output_type": "execute_result"
    }
   ],
   "source": [
    "model.geom_rgba  # RGBA геометрических объектов в порядке указания в MJCF (XML) модели"
   ]
  },
  {
   "cell_type": "markdown",
   "metadata": {},
   "source": [
    "## Named access\n",
    "\n",
    "The MuJoCo Python bindings provide convenient [accessors](https://mujoco.readthedocs.io/en/latest/python.html#named-access) using names. Calling the `model.geom()` accessor without a name string generates a convenient error that tells us what the valid names are."
   ]
  },
  {
   "cell_type": "code",
   "execution_count": 4,
   "metadata": {},
   "outputs": [
    {
     "name": "stdout",
     "output_type": "stream",
     "text": [
      "\"Invalid name ''. Valid names: ['green_sphere', 'red_box']\"\n"
     ]
    }
   ],
   "source": [
    "try:\n",
    "  model.geom()\n",
    "except KeyError as e:\n",
    "  print(e)"
   ]
  },
  {
   "cell_type": "markdown",
   "metadata": {},
   "source": [
    "Calling the named accessor without specifying a property will tell us what all the valid properties are:"
   ]
  },
  {
   "cell_type": "code",
   "execution_count": 5,
   "metadata": {},
   "outputs": [
    {
     "data": {
      "text/plain": [
       "<_MjModelGeomViews\n",
       "  bodyid: array([0], dtype=int32)\n",
       "  conaffinity: array([1], dtype=int32)\n",
       "  condim: array([3], dtype=int32)\n",
       "  contype: array([1], dtype=int32)\n",
       "  dataid: array([-1], dtype=int32)\n",
       "  friction: array([1.e+00, 5.e-03, 1.e-04])\n",
       "  gap: array([0.])\n",
       "  group: array([0], dtype=int32)\n",
       "  id: 1\n",
       "  margin: array([0.])\n",
       "  matid: array([-1], dtype=int32)\n",
       "  name: 'green_sphere'\n",
       "  pos: array([0.2, 0.2, 0.2])\n",
       "  priority: array([0], dtype=int32)\n",
       "  quat: array([1., 0., 0., 0.])\n",
       "  rbound: array([0.1])\n",
       "  rgba: array([0., 1., 0., 1.], dtype=float32)\n",
       "  sameframe: array([0], dtype=uint8)\n",
       "  size: array([0.1, 0. , 0. ])\n",
       "  solimp: array([9.0e-01, 9.5e-01, 1.0e-03, 5.0e-01, 2.0e+00])\n",
       "  solmix: array([1.])\n",
       "  solref: array([0.02, 1.  ])\n",
       "  type: array([2], dtype=int32)\n",
       "  user: array([], dtype=float64)\n",
       ">"
      ]
     },
     "execution_count": 5,
     "metadata": {},
     "output_type": "execute_result"
    }
   ],
   "source": [
    "model.geom(\"green_sphere\")"
   ]
  },
  {
   "cell_type": "code",
   "execution_count": 6,
   "metadata": {},
   "outputs": [
    {
     "data": {
      "text/plain": [
       "array([0., 1., 0., 1.], dtype=float32)"
      ]
     },
     "execution_count": 6,
     "metadata": {},
     "output_type": "execute_result"
    }
   ],
   "source": [
    "model.geom(\"green_sphere\").rgba  # Так можно узнать отдельное поле интересующего объекта "
   ]
  },
  {
   "cell_type": "markdown",
   "metadata": {},
   "source": [
    "This functionality is a convenience shortcut for MuJoCo's [`mj_name2id`](https://mujoco.readthedocs.io/en/latest/APIreference.html?highlight=mj_name2id#mj-name2id) function:"
   ]
  },
  {
   "cell_type": "code",
   "execution_count": 7,
   "metadata": {},
   "outputs": [
    {
     "data": {
      "text/plain": [
       "array([0., 1., 0., 1.], dtype=float32)"
      ]
     },
     "execution_count": 7,
     "metadata": {},
     "output_type": "execute_result"
    }
   ],
   "source": [
    "id_ = mujoco.mj_name2id(model, mujoco.mjtObj.mjOBJ_GEOM, \"green_sphere\")\n",
    "model.geom_rgba[id_]"
   ]
  },
  {
   "cell_type": "markdown",
   "metadata": {},
   "source": [
    "Similarly, the read-only `id` and `name` properties can be used to convert from id to name and back:"
   ]
  },
  {
   "cell_type": "code",
   "execution_count": 8,
   "metadata": {},
   "outputs": [
    {
     "name": "stdout",
     "output_type": "stream",
     "text": [
      "id of \"green_sphere\":  1\n",
      "name of geom 1:  green_sphere\n",
      "name of body 0:  world\n"
     ]
    }
   ],
   "source": [
    "print('id of \"green_sphere\": ', model.geom('green_sphere').id)\n",
    "print('name of geom 1: ', model.geom(1).name)\n",
    "print('name of body 0: ', model.body(0).name)  # Интересно, что тело в сцене только одно и это - мир"
   ]
  },
  {
   "cell_type": "markdown",
   "metadata": {},
   "source": [
    "Note that the 0th body is always the `world`. It cannot be renamed.\n",
    "\n",
    "The `id` and `name` attributes are useful in Python comprehensions:"
   ]
  },
  {
   "cell_type": "code",
   "execution_count": 9,
   "metadata": {},
   "outputs": [
    {
     "data": {
      "text/plain": [
       "{0: 'red_box', 1: 'green_sphere'}"
      ]
     },
     "execution_count": 9,
     "metadata": {},
     "output_type": "execute_result"
    }
   ],
   "source": [
    "{model.geom(i).id:model.geom(i).name for i in range(model.ngeom)}"
   ]
  },
  {
   "cell_type": "markdown",
   "metadata": {},
   "source": [
    "## mjData\n",
    "`mjData` contains the *state* and quantities that depend on it. The state is made up of time, [generalized](https://en.wikipedia.org/wiki/Generalized_coordinates) positions and generalized velocities. These are respectively `data.time`, `data.qpos` and `data.qvel`. In order to make a new `mjData`, all we need is our `mjModel`"
   ]
  },
  {
   "cell_type": "code",
   "execution_count": 10,
   "metadata": {},
   "outputs": [
    {
     "data": {
      "text/plain": [
       "array([], dtype=float64)"
      ]
     },
     "execution_count": 10,
     "metadata": {},
     "output_type": "execute_result"
    }
   ],
   "source": [
    "data = mujoco.MjData(model)\n",
    "\n",
    "# State of the system\n",
    "data.time\n",
    "data.qpos  # Определяет конфигурацию системы\n",
    "data.qvel  # Определяет скорости системы"
   ]
  },
  {
   "cell_type": "markdown",
   "metadata": {},
   "source": [
    "`mjData` also contains *functions of the state*, for example the Cartesian positions of objects in the world frame. The (x, y, z) positions of our two geoms are in `data.geom_xpos`:"
   ]
  },
  {
   "cell_type": "code",
   "execution_count": 11,
   "metadata": {},
   "outputs": [
    {
     "data": {
      "text/plain": [
       "array([[0., 0., 0.],\n",
       "       [0., 0., 0.]])"
      ]
     },
     "execution_count": 11,
     "metadata": {},
     "output_type": "execute_result"
    }
   ],
   "source": [
    "data.geom_xpos  # Координаты объектов в декартовом пространстве"
   ]
  },
  {
   "cell_type": "markdown",
   "metadata": {},
   "source": [
    "Wait, why are both of our geoms at the origin? Didn't we offset the green sphere? The answer is that derived quantities in `mjData` need to be explicitly propagated (see [below](#scrollTo=QY1gpms1HXeN)). In our case, the minimal required function is [`mj_kinematics`](https://mujoco.readthedocs.io/en/latest/APIreference.html#mj-kinematics), which computes global Cartesian poses for all objects (excluding cameras and lights)."
   ]
  },
  {
   "cell_type": "code",
   "execution_count": 12,
   "metadata": {},
   "outputs": [
    {
     "name": "stdout",
     "output_type": "stream",
     "text": [
      "red_box :  [0. 0. 0.]\n",
      "green_sphere :  [0.2 0.2 0.2]\n"
     ]
    }
   ],
   "source": [
    "mujoco.mj_kinematics(model, data)  # Необходимо вызвать эту функцию, что ЯВНО задать все указанные в XML файле координаты\n",
    "for i in range(model.ngeom):\n",
    "    print(data.geom(i).name, \": \", data.geom(i).xpos)"
   ]
  },
  {
   "cell_type": "markdown",
   "metadata": {},
   "source": [
    "# Basic rendering, simulation, and animation\n",
    "\n",
    "In order to render we'll need to instantiate a `Renderer` object and call its `render` method.\n",
    "\n",
    "We'll also reload our model to make the colab's sections independent"
   ]
  },
  {
   "cell_type": "code",
   "execution_count": 13,
   "metadata": {},
   "outputs": [
    {
     "data": {
      "text/html": [
       "<table class=\"show_images\" style=\"border-spacing:0px;\"><tr><td style=\"padding:1px;\"><img width=\"320\" height=\"240\" style=\"image-rendering:auto; object-fit:cover;\" src=\"data:image/png;base64,iVBORw0KGgoAAAANSUhEUgAAAUAAAADwCAIAAAD+Tyo8AAAA9UlEQVR4nO3BAQEAAACCIP+vbkhAAQAAAAAAAAAAAAAAAAAAAAAAAAAAAAAAAAAAAAAAAAAAAAAAAAAAAAAAAAAAAAAAAAAAAAAAAAAAAAAAAAAAAAAAAAAAAAAAAAAAAAAAAAAAAAAAAAAAAAAAAAAAAAAAAAAAAAAAAAAAAAAAAAAAAAAAAAAAAAAAAAAAAAAAAAAAAAAAAAAAAAAAAAAAAAAAAAAAAAAAAAAAAAAAAAAAAAAAAAAAAAAAAAAAAAAAAAAAAAAAAAAAAAAAAAAAAAAAAAAAAAAAAAAAAAAAAAAAAAAAAAAAAAAAAAAAAAAAAPBohR0AAXbPpmUAAAAASUVORK5CYII=\"/></td></tr></table>"
      ],
      "text/plain": [
       "<IPython.core.display.HTML object>"
      ]
     },
     "metadata": {},
     "output_type": "display_data"
    }
   ],
   "source": [
    "xml = \"\"\"\n",
    "<mujoco>\n",
    "    <worldbody>\n",
    "        <light name=\"top\" pos=\"0 0 1\"/>\n",
    "        <geom name=\"red_box\" type=\"box\" size=\".2 .2 .2\" rgba=\"1 0 0 1\"/>\n",
    "        <geom name=\"green_sphere\" pos=\".2 .2 .2\" size=\".1\" rgba=\"0 1 0 1\"/>\n",
    "        <geom name=\"floor\" pos=\"0 0 -0.2\" size=\"0 0 0.05\" type=\"plane\"/>\n",
    "    </worldbody>\n",
    "</mujoco>\n",
    "\"\"\"\n",
    "\n",
    "# Make model and data\n",
    "model = mujoco.MjModel.from_xml_string(xml)\n",
    "data = mujoco.MjData(model)\n",
    "\n",
    "# Make the renderer, render and show the pixels\n",
    "try:\n",
    "    renderer\n",
    "except:\n",
    "    renderer = mujoco.Renderer(model)\n",
    "media.show_image(renderer.render())"
   ]
  },
  {
   "cell_type": "markdown",
   "metadata": {},
   "source": [
    "Hmmm, why the black pixels?\n",
    "\n",
    "**Answer:** For the same reason as above, we first need to propagate the values in `mjData`. This time we'll call [`mj_forward`](https://mujoco.readthedocs.io/en/latest/APIreference.html#mj-forward), which invokes the entire pipeline up to the computation of accelerations i.e., it computes $\\dot x = f(x)$, where $x$ is the state. This function does more than we actually need, but unless we care about saving computation time, it's good practice to call `mj_forward` since then we know we are not missing anything.\n",
    "\n",
    "We also need to update the `mjvScene` which is an object held by the renderer describing the visual scene. We'll later see that the scene can include visual objects which are not part of the physical model."
   ]
  },
  {
   "cell_type": "code",
   "execution_count": 14,
   "metadata": {},
   "outputs": [
    {
     "data": {
      "text/html": [
       "<table class=\"show_images\" style=\"border-spacing:0px;\"><tr><td style=\"padding:1px;\"><img width=\"320\" height=\"240\" style=\"image-rendering:auto; object-fit:cover;\" src=\"data:image/png;base64,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\"/></td></tr></table>"
      ],
      "text/plain": [
       "<IPython.core.display.HTML object>"
      ]
     },
     "metadata": {},
     "output_type": "display_data"
    }
   ],
   "source": [
    "mujoco.mj_forward(model, data)  # Расчет прямой динамики: по текущему вектору состояния и приложенным силам расчитать ускорение системы, затем интегрируя его, получить состояние системы в иные промежутки времени\n",
    "renderer.update_scene(data)  # Обновление сцены\n",
    "\n",
    "media.show_image(renderer.render())  # Рендер изображения и его вывод при помощи сторонней библиотеки"
   ]
  },
  {
   "cell_type": "markdown",
   "metadata": {},
   "source": [
    "# Simulation\n",
    "\n",
    "Now let's simulate and make a video. We'll use MuJoCo's main high level function `mj_step`, which steps the state $x_{t+h} = f(x_t)$.\n",
    "\n",
    "Note that in the code block below we are *not* rendering after each call to `mj_step`. This is because the default timestep is 2ms, and we want a 60fps video, not 500fps."
   ]
  },
  {
   "cell_type": "code",
   "execution_count": 15,
   "metadata": {},
   "outputs": [
    {
     "data": {
      "text/html": [
       "<table class=\"show_videos\" style=\"border-spacing:0px;\"><tr><td style=\"padding:1px;\"><video controls width=\"320\" height=\"240\" style=\"object-fit:cover;\" loop autoplay muted>\n",
       "      <source src=\"data:video/mp4;base64,AAAAIGZ0eXBpc29tAAACAGlzb21pc28yYXZjMW1wNDEAAAAIZnJlZQAAFqptZGF0AAACfwYF//973EXpvebZSLeWLNgg2SPu73gyNjQgLSBjb3JlIDE2MyByMzA2MCA1ZGI2YWE2IC0gSC4yNjQvTVBFRy00IEFWQyBjb2RlYyAtIENvcHlsZWZ0IDIwMDMtMjAyMSAtIGh0dHA6Ly93d3cudmlkZW9sYW4ub3JnL3gyNjQuaHRtbCAtIG9wdGlvbnM6IGNhYmFjPTEgcmVmPTMgZGVibG9jaz0xOjA6MCBhbmFseXNlPTB4MzoweDExMyBtZT1oZXggc3VibWU9NyBwc3k9MSBwc3lfcmQ9MS4wMDowLjAwIG1peGVkX3JlZj0xIG1lX3JhbmdlPTE2IGNocm9tYV9tZT0xIHRyZWxsaXM9MSA4eDhkY3Q9MSBjcW09MCBkZWFkem9uZT0yMSwxMSBmYXN0X3Bza2lwPTEgY2hyb21hX3FwX29mZnNldD0tMiB0aHJlYWRzPTcgbG9va2FoZWFkX3RocmVhZHM9MSBzbGljZWRfdGhyZWFkcz0wIG5yPTAgZGVjaW1hdGU9MSBpbnRlcmxhY2VkPTAgYmx1cmF5X2NvbXBhdD0wIGNvbnN0cmFpbmVkX2ludHJhPTAgYmZyYW1lcz0zIGJfcHlyYW1pZD0yIGJfYWRhcHQ9MSBiX2JpYXM9MCBkaXJlY3Q9MSB3ZWlnaHRiPTEgb3Blbl9nb3A9MCB3ZWlnaHRwPTIga2V5aW50PTI1MCBrZXlpbnRfbWluPTI1IHNjZW5lY3V0PTQwIGludHJhX3JlZnJlc2g9MCByYz1jcXAgbWJ0cmVlPTAgcXA9MjAgaXBfcmF0aW89MS40MCBwYl9yYXRpbz0xLjMwIGFxPTAAgAAABUpliIQA//70oPgUx9zPKzFa92IiYOUDg7Jwzh2AAT/pqaWcilFo24Q5p0ORxoUDARal3ozCDgD6V/AZqdRIgPEvKvEJQqsDS8ln1A7oltrqKE68NdlceVvJEEa+AqwbqPb/YhnDrFZ6klnfWUg6ou103GlrtndIKSy0NBbVFG0DIa4MR0yQ2j9yUNNrEYyKOz4M/o+5cERrHto8UGZMic/3bJzu3gCYwwH1jGPvKMTTfGZ7QWjnfVpnCuoe5TDw1WLcX3SjSWzz01sXGGagZnAD1U8EbasyNuJhkMk0G38EtvtcYAHXCX1ljo6Er+A3gx4dfrc3uvSDkAylSdfzx+e+BuftocLUqVfJRSO8jjg8XZgiX6TG6tnr78eJL29d4VrXEQOakZBLQfgPhFb14J+V05V8VzVC5G3zaECH+qzi/PHufojgCFdvFc2VLfns3HSJ3n93tQ9SDb/Ipg/L8cAgO25UE4JwFxVDECK0NFNXXl5SHHKbRfA4ZdDfEQ/ojniSGxCg++kXfWTl4DsaTvzlyMYi3Uowe4MoYe7GoZMq35xyeq8MRLTrLPesLsNAAWGm6jwMXd0S8UFu87mdMF+/Q2s5wVGbIL2BcazD6JqXxTPwbn0P91cmVmhmkIfjQK1Dkwbl5B7CaYfjhK5rOYlOGmszXbxutfN+akNN8HVztT5qW2eIazEay+uSN8/PERT3Mt10csHEZR8cDrn7dnvFmXRQM6Y3vLp+coRDaLhREvZxL26mn0jvYD/W9nTqpy6wPeUt5S2sutTZmS3NWx6/Ghe3cD2DPMHjZunGFGrOfuCs8a4y1FalAGvjxH27UJ4ubV0h5qgmUD56jEakm37OsnkH9b2OFO0QPnnRE37CD/d8JW6BRqt8oRy9AKp/9/6yj3MDSrPwAstF3vUl70l+VmDy4IRwvoQ88AclEnevtHY+v+jph1rOQ9+aOyIDBBKAMlpXre4csUaoHOEVg7yREw7a0hlJUCfmoFtBDs+BjVA0rFrwBUIzMeJhFMPjYgXUDw86tVKQ4vj+XeYXnZ8ozsj9WS4YWHqBX8xijZvk3UD20pmqREmlZk5ffQT4D8iI8EIHySJk7iHiTf77cpJ6bwflLlRBZTgKjfU/HqAQotCLP+DwTdvSXR/ElM8PEpXYKCLoauZoUHsZRa9/KFe9mqylgWMdGz3PIFjpOs1u2aqIxSFjJ+qc01fIxfTYvS98XZPYH+1vk65BBDNQkIEHB21PFABeM8+JJLFY7Nm7xWtRQxtvoBCHf1SmVe4o0V2mqxoiRDPFGJXmOVn5w9iKBJ1pLGuN96OPpkCxJCN30x7SfVID8dcbj+5chmTeJoxqbRE1/3yqTEkL6z3HZFO8dRxUS5CSErJiTsQ10T1qQlnQ4fOOWRWpEhJI0eXRPaO8WkJpHh9s6CczKRpE/K9x51GgU8xQs8popnCqyWC883JgLEBYhX5GttoqimcbSJF9eZDmyIWtlOYn52n374b0xIhracPYHXJrfMmED23m9vbHwtlw89BYMaJPpolUQGomZgkG/S/rot2m8q8EKGW0nF2BMeMuqmGMXKel4jc9BmT/sKK7ENI1LCfYrDTBXoUPOSqOPhYm9tW6uQww1xae8H7R92YiB3j/7pVLCM+M0VLqIaAMpq3kCWihrjeuma9JWvIb06V8mYVrdc6A88gDoa3VY6oHwLhVJjo0GZvfWKHXKY9e1+bdR8EiSjhynFP2bRO7jEIyAuUiBUKi+tlMAHsYzbXM9jxEi5JlLbIG4ypfKtQ7kmIzLhTlivnETBTJzToMgQ8iRaUZAAAAKEGaJGx/5EASxlsZgU6eGUsnd3tqyHi2hxob9S1n9TRMaUXxEvKcmH4AAAATQZ5CeK8LQDP+r9SWPeMWj4kjGwAAAA0BnmF0Sf8IDaGaTUrAAAAACQGeY2pJ/wAFJQAAABBBmmhJqEFomUwP/+RAAAu5AAAAEEGehkURLX8LQDBvh5CFsD0AAAAJAZ6ldEn/AAUlAAAACQGep2pJ/wAFJAAAABBBmqxJqEFsmUwP/+RAAAu4AAAAEEGeykUVLX8LQDBvh5CFsD0AAAAJAZ7pdEn/AAUkAAAACQGe62pJ/wAFJAAAABBBmvBJqEFsmUwP/+RAAAu5AAAAEEGfDkUVLX8LQDBvh5CFsD0AAAAJAZ8tdEn/AAUlAAAACQGfL2pJ/wAFJAAAABBBmzRJqEFsmUwP/+RAAAu4AAAAEEGfUkUVLX8LQDBvh5CFsD0AAAAJAZ9xdEn/AAUkAAAACQGfc2pJ/wAFJAAAABBBm3hJqEFsmUwP/+RAAAu5AAAAEEGflkUVLX8LQDBvh5CFsDwAAAAJAZ+1dEn/AAUlAAAACQGft2pJ/wAFJQAAABBBm7xJqEFsmUwP/+RAAAu4AAAAEEGf2kUVLX8LQDBvh5CFsD0AAAAJAZ/5dEn/AAUkAAAACQGf+2pJ/wAFJQAAABBBm+BJqEFsmUwP/+RAAAu5AAAAEEGeHkUVLX8LQDBvh5CFsDwAAAAJAZ49dEn/AAUkAAAACQGeP2pJ/wAFJQAAABBBmiRJqEFsmUwP/+RAAAu4AAAAEEGeQkUVLX8LQDBvh5CFsD0AAAAJAZ5hdEn/AAUkAAAACQGeY2pJ/wAFJQAAABBBmmhJqEFsmUwP/+RAAAu5AAAAEEGehkUVLX8LQDBvh5CFsD0AAAAJAZ6ldEn/AAUlAAAACQGep2pJ/wAFJAAAABBBmqxJqEFsmUwP/+RAAAu4AAAAEEGeykUVLX8LQDBvh5CFsD0AAAAJAZ7pdEn/AAUkAAAACQGe62pJ/wAFJAAAABBBmvBJqEFsmUwP/+RAAAu5AAAAEEGfDkUVLX8LQDBvh5CFsD0AAAAJAZ8tdEn/AAUlAAAACQGfL2pJ/wAFJAAAABBBmzRJqEFsmUwP/+RAAAu4AAAAEEGfUkUVLX8LQDBvh5CFsD0AAAAJAZ9xdEn/AAUkAAAACQGfc2pJ/wAFJAAAABBBm3hJqEFsmUwP/+RAAAu5AAAAEEGflkUVLX8LQDBvh5CFsDwAAAAJAZ+1dEn/AAUlAAAACQGft2pJ/wAFJQAAABBBm7xJqEFsmUwP/+RAAAu4AAAAEEGf2kUVLX8LQDBvh5CFsD0AAAAJAZ/5dEn/AAUkAAAACQGf+2pJ/wAFJQAAABBBm+BJqEFsmUwP/+RAAAu5AAAAEEGeHkUVLX8LQDBvh5CFsDwAAAAJAZ49dEn/AAUkAAAACQGeP2pJ/wAFJQAAABBBmiRJqEFsmUwP/+RAAAu4AAAAEEGeQkUVLX8LQDBvh5CFsD0AAAAJAZ5hdEn/AAUkAAAACQGeY2pJ/wAFJQAAABBBmmhJqEFsmUwP/+RAAAu5AAAAEEGehkUVLX8LQDBvh5CFsD0AAAAJAZ6ldEn/AAUlAAAACQGep2pJ/wAFJAAAABBBmqxJqEFsmUwP/+RAAAu4AAAAEEGeykUVLX8LQDBvh5CFsD0AAAAJAZ7pdEn/AAUkAAAACQGe62pJ/wAFJAAAABBBmvBJqEFsmUwP/+RAAAu5AAAAEEGfDkUVLX8LQDBvh5CFsD0AAAAJAZ8tdEn/AAUlAAAACQGfL2pJ/wAFJAAAABBBmzRJqEFsmUwP/+RAAAu4AAAAEEGfUkUVLX8LQDBvh5CFsD0AAAAJAZ9xdEn/AAUkAAAACQGfc2pJ/wAFJAAAABBBm3hJqEFsmUwP/+RAAAu5AAAAEEGflkUVLX8LQDBvh5CFsDwAAAAJAZ+1dEn/AAUlAAAACQGft2pJ/wAFJQAAABBBm7xJqEFsmUwP/+RAAAu4AAAAEEGf2kUVLX8LQDBvh5CFsD0AAAAJAZ/5dEn/AAUkAAAACQGf+2pJ/wAFJQAAABBBm+BJqEFsmUwP/+RAAAu5AAAAEEGeHkUVLX8LQDBvh5CFsDwAAAAJAZ49dEn/AAUkAAAACQGeP2pJ/wAFJQAAABBBmiRJqEFsmUwP/+RAAAu4AAAAEEGeQkUVLX8LQDBvh5CFsD0AAAAJAZ5hdEn/AAUkAAAACQGeY2pJ/wAFJQAAABBBmmhJqEFsmUwP/+RAAAu5AAAAEEGehkUVLX8LQDBvh5CFsD0AAAAJAZ6ldEn/AAUlAAAACQGep2pJ/wAFJAAAABBBmqxJqEFsmUwP/+RAAAu4AAAAEEGeykUVLX8LQDBvh5CFsD0AAAAJAZ7pdEn/AAUkAAAACQGe62pJ/wAFJAAAABBBmvBJqEFsmUwP/+RAAAu5AAAAEEGfDkUVLX8LQDBvh5CFsD0AAAAJAZ8tdEn/AAUlAAAACQGfL2pJ/wAFJAAAABBBmzRJqEFsmUwP/+RAAAu4AAAAEEGfUkUVLX8LQDBvh5CFsD0AAAAJAZ9xdEn/AAUkAAAACQGfc2pJ/wAFJAAAABBBm3hJqEFsmUwP/+RAAAu5AAAAEEGflkUVLX8LQDBvh5CFsDwAAAAJAZ+1dEn/AAUlAAAACQGft2pJ/wAFJQAAABBBm7xJqEFsmUwP/+RAAAu4AAAAEEGf2kUVLX8LQDBvh5CFsD0AAAAJAZ/5dEn/AAUkAAAACQGf+2pJ/wAFJQAAABBBm+BJqEFsmUwP/+RAAAu5AAAAEEGeHkUVLX8LQDBvh5CFsDwAAAAJAZ49dEn/AAUkAAAACQGeP2pJ/wAFJQAAABBBmiRJqEFsmUwP/+RAAAu4AAAAEEGeQkUVLX8LQDBvh5CFsD0AAAAJAZ5hdEn/AAUkAAAACQGeY2pJ/wAFJQAAABBBmmhJqEFsmUwP/+RAAAu5AAAAEEGehkUVLX8LQDBvh5CFsD0AAAAJAZ6ldEn/AAUlAAAACQGep2pJ/wAFJAAAABBBmqxJqEFsmUwP/+RAAAu4AAAAEEGeykUVLX8LQDBvh5CFsD0AAAAJAZ7pdEn/AAUkAAAACQGe62pJ/wAFJAAAABBBmvBJqEFsmUwP/+RAAAu5AAAAEEGfDkUVLX8LQDBvh5CFsD0AAAAJAZ8tdEn/AAUlAAAACQGfL2pJ/wAFJAAAABBBmzRJqEFsmUwP/+RAAAu4AAAAEEGfUkUVLX8LQDBvh5CFsD0AAAAJAZ9xdEn/AAUkAAAACQGfc2pJ/wAFJAAAABBBm3hJqEFsmUwP/+RAAAu5AAAAEEGflkUVLX8LQDBvh5CFsDwAAAAJAZ+1dEn/AAUlAAAACQGft2pJ/wAFJQAAABBBm7xJqEFsmUwP/+RAAAu4AAAAEEGf2kUVLX8LQDBvh5CFsD0AAAAJAZ/5dEn/AAUkAAAACQGf+2pJ/wAFJQAAABBBm+BJqEFsmUwP/+RAAAu5AAAAEEGeHkUVLX8LQDBvh5CFsDwAAAAJAZ49dEn/AAUkAAAACQGeP2pJ/wAFJQAAABBBmiRJqEFsmUwP/+RAAAu4AAAAEEGeQkUVLX8LQDBvh5CFsD0AAAAJAZ5hdEn/AAUkAAAACQGeY2pJ/wAFJQAAABBBmmhJqEFsmUwP/+RAAAu5AAAAEEGehkUVLX8LQDBvh5CFsD0AAAAJAZ6ldEn/AAUlAAAACQGep2pJ/wAFJAAAABBBmqxJqEFsmUwP/+RAAAu4AAAAEEGeykUVLX8LQDBvh5CFsD0AAAAJAZ7pdEn/AAUkAAAACQGe62pJ/wAFJAAAABBBmvBJqEFsmUwP/+RAAAu5AAAAEEGfDkUVLX8LQDBvh5CFsD0AAAAJAZ8tdEn/AAUlAAAACQGfL2pJ/wAFJAAAABBBmzRJqEFsmUwP/+RAAAu4AAAAEEGfUkUVLX8LQDBvh5CFsD0AAAAJAZ9xdEn/AAUkAAAACQGfc2pJ/wAFJAAAABBBm3hJqEFsmUwP/+RAAAu5AAAAEEGflkUVLX8LQDBvh5CFsDwAAAAJAZ+1dEn/AAUlAAAACQGft2pJ/wAFJQAAABBBm7xJqEFsmUwP/+RAAAu4AAAAEEGf2kUVLX8LQDBvh5CFsD0AAAAJAZ/5dEn/AAUkAAAACQGf+2pJ/wAFJQAAABBBm+BJqEFsmUwP/+RAAAu5AAAAEEGeHkUVLX8LQDBvh5CFsDwAAAAJAZ49dEn/AAUkAAAACQGeP2pJ/wAFJQAAABBBmiRJqEFsmUwP/+RAAAu4AAAAEEGeQkUVLX8LQDBvh5CFsD0AAAAJAZ5hdEn/AAUkAAAACQGeY2pJ/wAFJQAAABBBmmhJqEFsmUwP/+RAAAu5AAAAEEGehkUVLX8LQDBvh5CFsD0AAAAJAZ6ldEn/AAUlAAAACQGep2pJ/wAFJAAAABBBmqxJqEFsmUwP/+RAAAu4AAAAEEGeykUVLX8LQDBvh5CFsD0AAAAJAZ7pdEn/AAUkAAAACQGe62pJ/wAFJAAAABBBmvBJqEFsmUwP/+RAAAu5AAAAEEGfDkUVLX8LQDBvh5CFsD0AAAAJAZ8tdEn/AAUlAAAACQGfL2pJ/wAFJAAAABBBmzRJqEFsmUwP/+RAAAu4AAAAEEGfUkUVLX8LQDBvh5CFsD0AAAAJAZ9xdEn/AAUkAAAACQGfc2pJ/wAFJAAAABBBm3hJqEFsmUwP/+RAAAu5AAAAEEGflkUVLX8LQDBvh5CFsDwAAAAJAZ+1dEn/AAUlAAAACQGft2pJ/wAFJQAAABBBm7xJqEFsmUwP/+RAAAu4AAAAEEGf2kUVLX8LQDBvh5CFsD0AAAAJAZ/5dEn/AAUkAAAACQGf+2pJ/wAFJQAAABBBm+BJqEFsmUwP/+RAAAu5AAAAEEGeHkUVLX8LQDBvh5CFsDwAAAAJAZ49dEn/AAUkAAAACQGeP2pJ/wAFJQAAABBBmiRJqEFsmUwP/+RAAAu4AAAAEEGeQkUVLX8LQDBvh5CFsD0AAAAJAZ5hdEn/AAUkAAAACQGeY2pJ/wAFJQAADeVtb292AAAAbG12aGQAAAAAAAAAAAAAAAAAAAPoAAAO6QABAAABAAAAAAAAAAAAAAAAAQAAAAAAAAAAAAAAAAAAAAEAAAAAAAAAAAAAAAAAAEAAAAAAAAAAAAAAAAAAAAAAAAAAAAAAAAAAAAAAAAACAAAND3RyYWsAAABcdGtoZAAAAAMAAAAAAAAAAAAAAAEAAAAAAAAO6QAAAAAAAAAAAAAAAAAAAAAAAQAAAAAAAAAAAAAAAAAAAAEAAAAAAAAAAAAAAAAAAEAAAAABQAAAAPAAAAAAACRlZHRzAAAAHGVsc3QAAAAAAAAAAQAADukAAAIAAAEAAAAADIdtZGlhAAAAIG1kaGQAAAAAAAAAAAAAAAAAADwAAADlAFXEAAAAAAAtaGRscgAAAAAAAAAAdmlkZQAAAAAAAAAAAAAAAFZpZGVvSGFuZGxlcgAAAAwybWluZgAAABR2bWhkAAAAAQAAAAAAAAAAAAAAJGRpbmYAAAAcZHJlZgAAAAAAAAABAAAADHVybCAAAAABAAAL8nN0YmwAAACuc3RzZAAAAAAAAAABAAAAnmF2YzEAAAAAAAAAAQAAAAAAAAAAAAAAAAAAAAABQADwAEgAAABIAAAAAAAAAAEAAAAAAAAAAAAAAAAAAAAAAAAAAAAAAAAAAAAAAAAAAAAY//8AAAA0YXZjQwFkABX/4QAXZ2QAFazZQUH6EAAAAwAQAAAHgPFi2WABAAZo6+GyyLD9+PgAAAAAFGJ0cnQAAAAAAAAvcAAAL3AAAAAYc3R0cwAAAAAAAAABAAAA5QAAAQAAAAAUc3RzcwAAAAAAAAABAAAAAQAABzhjdHRzAAAAAAAAAOUAAAABAAACAAAAAAEAAAUAAAAAAQAAAgAAAAABAAAAAAAAAAEAAAEAAAAAAQAABQAAAAABAAACAAAAAAEAAAAAAAAAAQAAAQAAAAABAAAFAAAAAAEAAAIAAAAAAQAAAAAAAAABAAABAAAAAAEAAAUAAAAAAQAAAgAAAAABAAAAAAAAAAEAAAEAAAAAAQAABQAAAAABAAACAAAAAAEAAAAAAAAAAQAAAQAAAAABAAAFAAAAAAEAAAIAAAAAAQAAAAAAAAABAAABAAAAAAEAAAUAAAAAAQAAAgAAAAABAAAAAAAAAAEAAAEAAAAAAQAABQAAAAABAAACAAAAAAEAAAAAAAAAAQAAAQAAAAABAAAFAAAAAAEAAAIAAAAAAQAAAAAAAAABAAABAAAAAAEAAAUAAAAAAQAAAgAAAAABAAAAAAAAAAEAAAEAAAAAAQAABQAAAAABAAACAAAAAAEAAAAAAAAAAQAAAQAAAAABAAAFAAAAAAEAAAIAAAAAAQAAAAAAAAABAAABAAAAAAEAAAUAAAAAAQAAAgAAAAABAAAAAAAAAAEAAAEAAAAAAQAABQAAAAABAAACAAAAAAEAAAAAAAAAAQAAAQAAAAABAAAFAAAAAAEAAAIAAAAAAQAAAAAAAAABAAABAAAAAAEAAAUAAAAAAQAAAgAAAAABAAAAAAAAAAEAAAEAAAAAAQAABQAAAAABAAACAAAAAAEAAAAAAAAAAQAAAQAAAAABAAAFAAAAAAEAAAIAAAAAAQAAAAAAAAABAAABAAAAAAEAAAUAAAAAAQAAAgAAAAABAAAAAAAAAAEAAAEAAAAAAQAABQAAAAABAAACAAAAAAEAAAAAAAAAAQAAAQAAAAABAAAFAAAAAAEAAAIAAAAAAQAAAAAAAAABAAABAAAAAAEAAAUAAAAAAQAAAgAAAAABAAAAAAAAAAEAAAEAAAAAAQAABQAAAAABAAACAAAAAAEAAAAAAAAAAQAAAQAAAAABAAAFAAAAAAEAAAIAAAAAAQAAAAAAAAABAAABAAAAAAEAAAUAAAAAAQAAAgAAAAABAAAAAAAAAAEAAAEAAAAAAQAABQAAAAABAAACAAAAAAEAAAAAAAAAAQAAAQAAAAABAAAFAAAAAAEAAAIAAAAAAQAAAAAAAAABAAABAAAAAAEAAAUAAAAAAQAAAgAAAAABAAAAAAAAAAEAAAEAAAAAAQAABQAAAAABAAACAAAAAAEAAAAAAAAAAQAAAQAAAAABAAAFAAAAAAEAAAIAAAAAAQAAAAAAAAABAAABAAAAAAEAAAUAAAAAAQAAAgAAAAABAAAAAAAAAAEAAAEAAAAAAQAABQAAAAABAAACAAAAAAEAAAAAAAAAAQAAAQAAAAABAAAFAAAAAAEAAAIAAAAAAQAAAAAAAAABAAABAAAAAAEAAAUAAAAAAQAAAgAAAAABAAAAAAAAAAEAAAEAAAAAAQAABQAAAAABAAACAAAAAAEAAAAAAAAAAQAAAQAAAAABAAAFAAAAAAEAAAIAAAAAAQAAAAAAAAABAAABAAAAAAEAAAUAAAAAAQAAAgAAAAABAAAAAAAAAAEAAAEAAAAAAQAABQAAAAABAAACAAAAAAEAAAAAAAAAAQAAAQAAAAABAAAFAAAAAAEAAAIAAAAAAQAAAAAAAAABAAABAAAAAAEAAAUAAAAAAQAAAgAAAAABAAAAAAAAAAEAAAEAAAAAAQAABQAAAAABAAACAAAAAAEAAAAAAAAAAQAAAQAAAAABAAAFAAAAAAEAAAIAAAAAAQAAAAAAAAABAAABAAAAAAEAAAUAAAAAAQAAAgAAAAABAAAAAAAAAAEAAAEAAAAAAQAABQAAAAABAAACAAAAAAEAAAAAAAAAAQAAAQAAAAABAAAFAAAAAAEAAAIAAAAAAQAAAAAAAAABAAABAAAAAAEAAAUAAAAAAQAAAgAAAAABAAAAAAAAAAEAAAEAAAAAAQAABQAAAAABAAACAAAAAAEAAAAAAAAAAQAAAQAAAAABAAAFAAAAAAEAAAIAAAAAAQAAAAAAAAABAAABAAAAAAEAAAUAAAAAAQAAAgAAAAABAAAAAAAAAAEAAAEAAAAAAQAABQAAAAABAAACAAAAAAEAAAAAAAAAAQAAAQAAAAABAAAFAAAAAAEAAAIAAAAAAQAAAAAAAAABAAABAAAAAAEAAAUAAAAAAQAAAgAAAAABAAAAAAAAAAEAAAEAAAAAAQAABQAAAAABAAACAAAAAAEAAAAAAAAAAQAAAQAAAAABAAAFAAAAAAEAAAIAAAAAAQAAAAAAAAABAAABAAAAAAEAAAUAAAAAAQAAAgAAAAABAAAAAAAAAAEAAAEAAAAAAQAABQAAAAABAAACAAAAAAEAAAAAAAAAAQAAAQAAAAABAAAFAAAAAAEAAAIAAAAAAQAAAAAAAAABAAABAAAAABxzdHNjAAAAAAAAAAEAAAABAAAA5QAAAAEAAAOoc3RzegAAAAAAAAAAAAAA5QAAB9EAAAAsAAAAFwAAABEAAAANAAAAFAAAABQAAAANAAAADQAAABQAAAAUAAAADQAAAA0AAAAUAAAAFAAAAA0AAAANAAAAFAAAABQAAAANAAAADQAAABQAAAAUAAAADQAAAA0AAAAUAAAAFAAAAA0AAAANAAAAFAAAABQAAAANAAAADQAAABQAAAAUAAAADQAAAA0AAAAUAAAAFAAAAA0AAAANAAAAFAAAABQAAAANAAAADQAAABQAAAAUAAAADQAAAA0AAAAUAAAAFAAAAA0AAAANAAAAFAAAABQAAAANAAAADQAAABQAAAAUAAAADQAAAA0AAAAUAAAAFAAAAA0AAAANAAAAFAAAABQAAAANAAAADQAAABQAAAAUAAAADQAAAA0AAAAUAAAAFAAAAA0AAAANAAAAFAAAABQAAAANAAAADQAAABQAAAAUAAAADQAAAA0AAAAUAAAAFAAAAA0AAAANAAAAFAAAABQAAAANAAAADQAAABQAAAAUAAAADQAAAA0AAAAUAAAAFAAAAA0AAAANAAAAFAAAABQAAAANAAAADQAAABQAAAAUAAAADQAAAA0AAAAUAAAAFAAAAA0AAAANAAAAFAAAABQAAAANAAAADQAAABQAAAAUAAAADQAAAA0AAAAUAAAAFAAAAA0AAAANAAAAFAAAABQAAAANAAAADQAAABQAAAAUAAAADQAAAA0AAAAUAAAAFAAAAA0AAAANAAAAFAAAABQAAAANAAAADQAAABQAAAAUAAAADQAAAA0AAAAUAAAAFAAAAA0AAAANAAAAFAAAABQAAAANAAAADQAAABQAAAAUAAAADQAAAA0AAAAUAAAAFAAAAA0AAAANAAAAFAAAABQAAAANAAAADQAAABQAAAAUAAAADQAAAA0AAAAUAAAAFAAAAA0AAAANAAAAFAAAABQAAAANAAAADQAAABQAAAAUAAAADQAAAA0AAAAUAAAAFAAAAA0AAAANAAAAFAAAABQAAAANAAAADQAAABQAAAAUAAAADQAAAA0AAAAUAAAAFAAAAA0AAAANAAAAFAAAABQAAAANAAAADQAAABQAAAAUAAAADQAAAA0AAAAUAAAAFAAAAA0AAAANAAAAFAAAABQAAAANAAAADQAAABQAAAAUAAAADQAAAA0AAAAUAAAAFAAAAA0AAAANAAAAFAAAABQAAAANAAAADQAAABQAAAAUAAAADQAAAA0AAAAUc3RjbwAAAAAAAAABAAAAMAAAAGJ1ZHRhAAAAWm1ldGEAAAAAAAAAIWhkbHIAAAAAAAAAAG1kaXJhcHBsAAAAAAAAAAAAAAAALWlsc3QAAAAlqXRvbwAAAB1kYXRhAAAAAQAAAABMYXZmNTguNzYuMTAw\" type=\"video/mp4\"/>\n",
       "      This browser does not support the video tag.\n",
       "      </video></td></tr></table>"
      ],
      "text/plain": [
       "<IPython.core.display.HTML object>"
      ]
     },
     "metadata": {},
     "output_type": "display_data"
    }
   ],
   "source": [
    "duration = 3.8  # (seconds)\n",
    "framerate = 60  # (Hz)\n",
    "\n",
    "# Simulate and display video\n",
    "frames = []\n",
    "mujoco.mj_resetData(model, data)  # Сброс состояния в начальное и времени\n",
    "while data.time < duration:\n",
    "    mujoco.mj_step(model, data)\n",
    "    if len(frames) < data.time * framerate:  # Добавляем так, чтобы за 1 сек видео было указанное количество кадров\n",
    "        renderer.update_scene(data) \n",
    "        pixels = renderer.render() \n",
    "        frames.append(pixels)\n",
    "media.show_video(frames, fps=framerate)"
   ]
  }
 ],
 "metadata": {
  "kernelspec": {
   "display_name": "Python 3",
   "language": "python",
   "name": "python3"
  },
  "language_info": {
   "codemirror_mode": {
    "name": "ipython",
    "version": 3
   },
   "file_extension": ".py",
   "mimetype": "text/x-python",
   "name": "python",
   "nbconvert_exporter": "python",
   "pygments_lexer": "ipython3",
   "version": "3.10.12"
  }
 },
 "nbformat": 4,
 "nbformat_minor": 2
}
