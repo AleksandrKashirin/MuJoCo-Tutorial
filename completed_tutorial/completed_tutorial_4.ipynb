{
 "cells": [
  {
   "cell_type": "markdown",
   "metadata": {
    "id": "t0CF6Gvkt_Cw"
   },
   "source": [
    "# MuJoCo basics\n",
    "\n",
    "We begin by defining and loading a simple model:"
   ]
  },
  {
   "cell_type": "code",
   "execution_count": null,
   "metadata": {},
   "outputs": [],
   "source": [
    "import mujoco\n",
    "import mediapy as media\n",
    "import matplotlib.pyplot as plt\n",
    "\n",
    "import time\n",
    "import itertools\n",
    "import numpy as np"
   ]
  },
  {
   "cell_type": "markdown",
   "metadata": {
    "id": "u_zN8vATwcGy"
   },
   "source": [
    "# Example: A chaotic pendulum"
   ]
  },
  {
   "cell_type": "markdown",
   "metadata": {
    "id": "g1MKUEL_eSCM"
   },
   "source": [
    "Below is a model of a chaotic pendulum, similar to [this one](https://www.exploratorium.edu/exhibits/chaotic-pendulum) in the San Francisco Exploratorium. "
   ]
  },
  {
   "cell_type": "code",
   "execution_count": null,
   "metadata": {
    "id": "3jHYTV-bwfrS"
   },
   "outputs": [],
   "source": [
    "chaotic_pendulum = \"\"\"\n",
    "<mujoco>\n",
    "  <option timestep=\".001\">  <!--Шаг интегрирования-->\n",
    "    <flag energy=\"enable\" contact=\"disable\"/>  <!--Отключение вычесления контактных сил в симуляторе-->\n",
    "  </option>\n",
    "\n",
    "  <default>  <!--Какой-то джоинт-заглушка, хз что это и зачем вообще пока.-->\n",
    "    <joint type=\"hinge\" axis=\"0 -1 0\"/> \n",
    "    <geom type=\"capsule\" size=\".02\"/>\n",
    "  </default>\n",
    "\n",
    "  <worldbody>\n",
    "    <light pos=\"0 -.4 1\"/>\n",
    "    <camera name=\"fixed\" pos=\"0 -1 0\" xyaxes=\"1 0 0 0 0 1\"/>\n",
    "    <body name=\"0\" pos=\"0 0 .2\">\n",
    "      <joint name=\"root\"/>\n",
    "      <geom fromto=\"-.2 0 0 .2 0 0\" rgba=\"1 1 0 1\"/>\n",
    "      <geom fromto=\"0 0 0 0 0 -.25\" rgba=\"1 1 0 1\"/>\n",
    "      <body name=\"1\" pos=\"-0.2 0 0\">\n",
    "        <joint/>\n",
    "        <geom fromto=\"0 0 0 0 0 -.2\" rgba=\"1 0 0 1\"/>\n",
    "      </body>\n",
    "      <body name=\"2\" pos=\".2 0 0\">\n",
    "        <joint/>\n",
    "        <geom fromto=\"0 0 0 0 0 -.2\" rgba=\"0 1 0 1\"/>\n",
    "      </body>\n",
    "      <body name=\"3\" pos=\"0 0 -.25\">\n",
    "        <joint/>\n",
    "        <geom fromto=\"0 0 0 0 0 -.2\" rgba=\"0 0 1 1\"/>\n",
    "      </body>\n",
    "    </body>\n",
    "  </worldbody>\n",
    "</mujoco>\n",
    "\"\"\"\n",
    "model = mujoco.MjModel.from_xml_string(chaotic_pendulum)\n",
    "try:\n",
    "  renderer\n",
    "except:\n",
    "  renderer = mujoco.Renderer(model, 480, 640)\n",
    "data = mujoco.MjData(model)\n",
    "mujoco.mj_forward(model, data)\n",
    "renderer.update_scene(data, camera=\"fixed\")\n",
    "media.show_image(renderer.render())"
   ]
  },
  {
   "cell_type": "markdown",
   "metadata": {
    "id": "EKZrTBSS5f49"
   },
   "source": [
    "## Timing\n",
    "Let's see a video of it in action while we time the components:"
   ]
  },
  {
   "cell_type": "code",
   "execution_count": null,
   "metadata": {
    "id": "-kNWvE9dNwYW"
   },
   "outputs": [],
   "source": [
    "# setup\n",
    "n_seconds = 6\n",
    "framerate = 30  # Hz\n",
    "n_frames = int(n_seconds * framerate)\n",
    "frames = []\n",
    "try:\n",
    "  renderer\n",
    "except:\n",
    "  renderer = mujoco.Renderer(model, 240, 320)\n",
    "\n",
    "# set initial state\n",
    "mujoco.mj_resetData(model, data)\n",
    "data.joint('root').qvel = 10\n",
    "\n",
    "\n",
    "# simulate and record frames\n",
    "frame = 0\n",
    "sim_time = 0\n",
    "render_time = 0\n",
    "n_steps = 0\n",
    "for i in range(n_frames):\n",
    "  while data.time * framerate < i:\n",
    "    tic = time.time()\n",
    "    mujoco.mj_step(model, data)\n",
    "    sim_time += time.time() - tic\n",
    "    n_steps += 1\n",
    "  tic = time.time()\n",
    "  renderer.update_scene(data, \"fixed\")\n",
    "  frame = renderer.render()\n",
    "  render_time += time.time() - tic\n",
    "  frames.append(frame)\n",
    "\n",
    "# print timing and play video\n",
    "step_time = 1e6*sim_time/n_steps\n",
    "step_fps = n_steps/sim_time\n",
    "print(f'simulation: {step_time:5.3g} μs/step  ({step_fps:5.0f}Hz)')\n",
    "frame_time = 1e6*render_time/n_frames\n",
    "frame_fps = n_frames/render_time\n",
    "print(f'rendering:  {frame_time:5.3g} μs/frame ({frame_fps:5.0f}Hz)')\n",
    "print('\\n')\n",
    "\n",
    "# show video\n",
    "media.show_video(frames, fps=framerate)"
   ]
  },
  {
   "cell_type": "markdown",
   "metadata": {
    "id": "Iqi_m8HT-X5k"
   },
   "source": [
    "Note that rendering is **much** slower than the simulated physics.\n",
    "\n",
    "## Chaos\n",
    "This is a [chaotic](https://en.wikipedia.org/wiki/Chaos_theory) system (small pertubations in initial conditions accumulate quickly):"
   ]
  },
  {
   "cell_type": "code",
   "execution_count": null,
   "metadata": {
    "id": "Pa_19EfvOzzg"
   },
   "outputs": [],
   "source": [
    "PERTURBATION = 1e-7\n",
    "SIM_DURATION = 10 # seconds\n",
    "NUM_REPEATS = 8\n",
    "\n",
    "# preallocate\n",
    "n_steps = int(SIM_DURATION / model.opt.timestep)\n",
    "sim_time = np.zeros(n_steps)\n",
    "angle = np.zeros(n_steps)\n",
    "energy = np.zeros(n_steps)\n",
    "\n",
    "# prepare plotting axes\n",
    "_, ax = plt.subplots(2, 1, figsize=(8, 6), sharex=True)\n",
    "\n",
    "# simulate NUM_REPEATS times with slightly different initial conditions\n",
    "for _ in range(NUM_REPEATS):\n",
    "  # initialize\n",
    "  mujoco.mj_resetData(model, data)\n",
    "  data.qvel[0] = 10 # root joint velocity\n",
    "  # perturb initial velocities\n",
    "  data.qvel[:] += PERTURBATION * np.random.randn(model.nv)\n",
    "\n",
    "  # simulate\n",
    "  for i in range(n_steps):\n",
    "    mujoco.mj_step(model, data)\n",
    "    sim_time[i] = data.time\n",
    "    angle[i] = data.joint('root').qpos\n",
    "    energy[i] = data.energy[0] + data.energy[1]\n",
    "\n",
    "  # plot\n",
    "  ax[0].plot(sim_time, angle)\n",
    "  ax[1].plot(sim_time, energy)\n",
    "\n",
    "# finalize plot\n",
    "ax[0].set_title('root angle')\n",
    "ax[0].set_ylabel('radian')\n",
    "ax[1].set_title('total energy')\n",
    "ax[1].set_ylabel('Joule')\n",
    "ax[1].set_xlabel('second')\n",
    "plt.tight_layout()"
   ]
  },
  {
   "cell_type": "markdown",
   "metadata": {
    "id": "daSIA_ewFGxV"
   },
   "source": [
    "## Timestep and accuracy\n",
    "**Question:** Why is the energy varying at all? There is no friction or damping, this system should conserve energy.\n",
    "\n",
    "**Answer:** Because of the discretization of time.\n",
    "\n",
    "If we decrease the timestep we'll get better accuracy and better energy conservation:"
   ]
  },
  {
   "cell_type": "code",
   "execution_count": null,
   "metadata": {
    "id": "4z-7KN_fFme-"
   },
   "outputs": [],
   "source": [
    "SIM_DURATION = 10 # (seconds)\n",
    "TIMESTEPS = np.power(10, np.linspace(-2, -4, 5))\n",
    "\n",
    "# prepare plotting axes\n",
    "_, ax = plt.subplots(1, 1)\n",
    "\n",
    "for dt in TIMESTEPS:\n",
    "   # set timestep, print\n",
    "  model.opt.timestep = dt\n",
    "\n",
    "  # allocate\n",
    "  n_steps = int(SIM_DURATION / model.opt.timestep)\n",
    "  sim_time = np.zeros(n_steps)\n",
    "  energy = np.zeros(n_steps)\n",
    "\n",
    "  # initialize\n",
    "  mujoco.mj_resetData(model, data)\n",
    "  data.qvel[0] = 9 # root joint velocity\n",
    "\n",
    "  # simulate\n",
    "  print('{} steps at dt = {:2.2g}ms'.format(n_steps, 1000*dt))\n",
    "  for i in range(n_steps):\n",
    "    mujoco.mj_step(model, data)\n",
    "    sim_time[i] = data.time\n",
    "    energy[i] = data.energy[0] + data.energy[1]\n",
    "\n",
    "  # plot\n",
    "  ax.plot(sim_time, energy, label='timestep = {:2.2g}ms'.format(1000*dt))\n",
    "\n",
    "# finalize plot\n",
    "ax.set_title('energy')\n",
    "ax.set_ylabel('Joule')\n",
    "ax.set_xlabel('second')\n",
    "ax.legend(frameon=True);\n",
    "plt.tight_layout()"
   ]
  },
  {
   "cell_type": "markdown",
   "metadata": {
    "id": "jsVkUm7QKb9I"
   },
   "source": [
    "## Timestep and divergence\n",
    "When we increase the time step, the simulation quickly diverges:"
   ]
  },
  {
   "cell_type": "code",
   "execution_count": null,
   "metadata": {
    "id": "FbdUA4zDPbDP"
   },
   "outputs": [],
   "source": [
    "SIM_DURATION = 10 # (seconds)\n",
    "TIMESTEPS = np.power(10, np.linspace(-2, -1.5, 7))\n",
    "\n",
    "# get plotting axes\n",
    "ax = plt.gca()\n",
    "\n",
    "for dt in TIMESTEPS:\n",
    "  # set timestep\n",
    "  model.opt.timestep = dt\n",
    "\n",
    "  # allocate\n",
    "  n_steps = int(SIM_DURATION / model.opt.timestep)\n",
    "  sim_time = np.zeros(n_steps)\n",
    "  energy = np.zeros(n_steps) * np.nan\n",
    "  speed = np.zeros(n_steps) * np.nan\n",
    "\n",
    "  # initialize\n",
    "  mujoco.mj_resetData(model, data)\n",
    "  data.qvel[0] = 11 # set root joint velocity\n",
    "\n",
    "  # simulate\n",
    "  print('simulating {} steps at dt = {:2.2g}ms'.format(n_steps, 1000*dt))\n",
    "  for i in range(n_steps):\n",
    "    mujoco.mj_step(model, data)\n",
    "    if data.warning.number.any():\n",
    "      warning_index = np.nonzero(data.warning.number)[0]\n",
    "      warning = mujoco.mjtWarning(warning_index).name\n",
    "      print(f'stopped due to divergence ({warning}) at timestep {i}.\\n')\n",
    "      break\n",
    "    sim_time[i] = data.time\n",
    "    energy[i] = sum(abs(data.qvel))\n",
    "    speed[i] = np.linalg.norm(data.qvel)\n",
    "\n",
    "  # plot\n",
    "  ax.plot(sim_time, energy, label='timestep = {:2.2g}ms'.format(1000*dt))\n",
    "  ax.set_yscale('log')\n",
    "\n",
    "\n",
    "# finalize plot\n",
    "ax.set_ybound(1, 1e3)\n",
    "ax.set_title('energy')\n",
    "ax.set_ylabel('Joule')\n",
    "ax.set_xlabel('second')\n",
    "ax.legend(frameon=True, loc='lower right');\n",
    "plt.tight_layout()\n"
   ]
  },
  {
   "cell_type": "markdown",
   "metadata": {
    "id": "FITYfGyy3XPL"
   },
   "source": [
    "# Contacts\n",
    "\n",
    "Let's go back to our box and sphere example and give it a free joint:"
   ]
  },
  {
   "cell_type": "code",
   "execution_count": null,
   "metadata": {
    "id": "2n1VNVv_FkbB"
   },
   "outputs": [],
   "source": [
    "free_body_MJCF = \"\"\"\n",
    "<mujoco>\n",
    "  <asset>\n",
    "    <texture name=\"grid\" type=\"2d\" builtin=\"checker\" rgb1=\".1 .2 .3\" \n",
    "    rgb2=\".2 .3 .4\" width=\"300\" height=\"300\" mark=\"edge\" markrgb=\".2 .3 .4\"/>\n",
    "    <material name=\"grid\" texture=\"grid\" texrepeat=\"2 2\" texuniform=\"true\"\n",
    "    reflectance=\".2\"/>\n",
    "  </asset>\n",
    "\n",
    "  <worldbody>\n",
    "    <light pos=\"0 0 1\" mode=\"trackcom\"/>\n",
    "    <geom name=\"ground\" type=\"plane\" pos=\"0 0 -.5\" size=\"2 2 .1\" material=\"grid\" solimp=\".99 .99 .01\" solref=\".001 1\"/>\n",
    "    <body name=\"box_and_sphere\" pos=\"0 0 0\">\n",
    "      <freejoint/>\n",
    "      <geom name=\"red_box\" type=\"box\" size=\".1 .1 .1\" rgba=\"1 0 0 1\" solimp=\".99 .99 .01\"  solref=\".001 1\"/>\n",
    "      <geom name=\"green_sphere\" size=\".06\" pos=\".1 .1 .1\" rgba=\"0 1 0 1\"/>\n",
    "      <camera name=\"fixed\" pos=\"0 -.6 .3\" xyaxes=\"1 0 0 0 1 2\"/>\n",
    "      <camera name=\"track\" pos=\"0 -.6 .3\" xyaxes=\"1 0 0 0 1 2\" mode=\"track\"/>\n",
    "    </body>\n",
    "  </worldbody>\n",
    "</mujoco>\n",
    "\"\"\"\n",
    "model = mujoco.MjModel.from_xml_string(free_body_MJCF)\n",
    "try:\n",
    "  renderer1\n",
    "except:\n",
    "  renderer1 = mujoco.Renderer(model, 400, 600)\n",
    "data = mujoco.MjData(model)\n",
    "mujoco.mj_forward(model, data)\n",
    "renderer1.update_scene(data, \"fixed\")\n",
    "media.show_image(renderer1.render())"
   ]
  },
  {
   "cell_type": "markdown",
   "metadata": {
    "id": "Z2amdQCn8REu"
   },
   "source": [
    "Let render this body rolling on the floor, in slow-motion, while visualizing contact points and forces:"
   ]
  },
  {
   "cell_type": "code",
   "execution_count": null,
   "metadata": {
    "id": "HlRhFs_d3WLP"
   },
   "outputs": [],
   "source": [
    "n_frames = 200\n",
    "height = 240\n",
    "width = 320\n",
    "frames = []\n",
    "try:\n",
    "  renderer2\n",
    "except:\n",
    "  renderer2 = mujoco.Renderer(model, height, width)\n",
    "\n",
    "# visualize contact frames and forces, make body transparent\n",
    "options = mujoco.MjvOption()\n",
    "mujoco.mjv_defaultOption(options)\n",
    "options.flags[mujoco.mjtVisFlag.mjVIS_CONTACTPOINT] = True\n",
    "options.flags[mujoco.mjtVisFlag.mjVIS_CONTACTFORCE] = True\n",
    "options.flags[mujoco.mjtVisFlag.mjVIS_TRANSPARENT] = True\n",
    "\n",
    "# tweak scales of contact visualization elements\n",
    "model.vis.scale.contactwidth = 0.1\n",
    "model.vis.scale.contactheight = 0.03\n",
    "model.vis.scale.forcewidth = 0.05\n",
    "model.vis.map.force = 0.3\n",
    "\n",
    "# random initial rotational velocity:\n",
    "mujoco.mj_resetData(model, data)\n",
    "data.qvel[3:6] = 5*np.random.randn(3)\n",
    "\n",
    "# simulate and render\n",
    "for i in range(n_frames):\n",
    "  while data.time < i/120.0: #1/4x real time\n",
    "    mujoco.mj_step(model, data)\n",
    "  renderer2.update_scene(data, \"track\", options)\n",
    "  frame = renderer2.render()\n",
    "  frames.append(frame)\n",
    "\n",
    "# show video\n",
    "media.show_video(frames, fps=30)"
   ]
  },
  {
   "cell_type": "markdown",
   "metadata": {
    "id": "_181TbtVSMBl"
   },
   "source": [
    "## Analysis of contact forces\n",
    "\n",
    "Let's rerun the above simulation (with a different random initial condition) and\n",
    "plot some values related to the contacts"
   ]
  },
  {
   "cell_type": "code",
   "execution_count": null,
   "metadata": {
    "id": "BMqyWeHki8Eg"
   },
   "outputs": [],
   "source": [
    "n_steps = 499\n",
    "\n",
    "# allocate\n",
    "sim_time = np.zeros(n_steps)\n",
    "ncon = np.zeros(n_steps)\n",
    "force = np.zeros((n_steps,3))\n",
    "velocity = np.zeros((n_steps, model.nv))\n",
    "penetration = np.zeros(n_steps)\n",
    "acceleration = np.zeros((n_steps, model.nv))\n",
    "forcetorque = np.zeros(6)\n",
    "\n",
    "# random initial rotational velocity:\n",
    "mujoco.mj_resetData(model, data)\n",
    "data.qvel[3:6] = 2*np.random.randn(3)\n",
    "\n",
    "# simulate and save data\n",
    "for i in range(n_steps):\n",
    "  mujoco.mj_step(model, data)\n",
    "  sim_time[i] = data.time\n",
    "  ncon[i] = data.ncon\n",
    "  velocity[i] = data.qvel[:]\n",
    "  acceleration[i] = data.qacc[:]\n",
    "  # iterate over active contacts, save force and distance\n",
    "  for j,c in enumerate(data.contact):\n",
    "    mujoco.mj_contactForce(model, data, j, forcetorque)\n",
    "    force[i] += forcetorque[0:3]\n",
    "    penetration[i] = min(penetration[i], c.dist)\n",
    "  # we could also do\n",
    "  # force[i] += data.qfrc_constraint[0:3]\n",
    "  # do you see why?\n",
    "\n",
    "# plot\n",
    "_, ax = plt.subplots(3, 2, sharex=True, figsize=(10, 10))\n",
    "\n",
    "lines = ax[0,0].plot(sim_time, force)\n",
    "ax[0,0].set_title('contact force')\n",
    "ax[0,0].set_ylabel('Newton')\n",
    "ax[0,0].legend(iter(lines), ('normal z', 'friction x', 'friction y'));\n",
    "\n",
    "ax[1,0].plot(sim_time, acceleration)\n",
    "ax[1,0].set_title('acceleration')\n",
    "ax[1,0].set_ylabel('(meter,radian)/s/s')\n",
    "\n",
    "ax[2,0].plot(sim_time, velocity)\n",
    "ax[2,0].set_title('velocity')\n",
    "ax[2,0].set_ylabel('(meter,radian)/s')\n",
    "ax[2,0].set_xlabel('second')\n",
    "\n",
    "ax[0,1].plot(sim_time, ncon)\n",
    "ax[0,1].set_title('number of contacts')\n",
    "ax[0,1].set_yticks(range(6))\n",
    "\n",
    "ax[1,1].plot(sim_time, force[:,0])\n",
    "ax[1,1].set_yscale('log')\n",
    "ax[1,1].set_title('normal (z) force - log scale')\n",
    "ax[1,1].set_ylabel('Newton')\n",
    "z_gravity = -model.opt.gravity[2]\n",
    "mg = model.body(\"box_and_sphere\").mass[0] * z_gravity\n",
    "mg_line = ax[1,1].plot(sim_time, np.ones(n_steps)*mg, label='m*g', linewidth=1)\n",
    "ax[1,1].legend()\n",
    "\n",
    "ax[2,1].plot(sim_time, 1000*penetration)\n",
    "ax[2,1].set_title('penetration depth')\n",
    "ax[2,1].set_ylabel('millimeter')\n",
    "ax[2,1].set_xlabel('second')\n",
    "\n",
    "plt.tight_layout()"
   ]
  },
  {
   "cell_type": "markdown",
   "metadata": {
    "id": "zV5PkYzFXu42"
   },
   "source": [
    "## Friction\n",
    "\n",
    "Let's see the effect of changing friction values"
   ]
  },
  {
   "cell_type": "code",
   "execution_count": null,
   "metadata": {
    "id": "2R_gKoYyXwda"
   },
   "outputs": [],
   "source": [
    "MJCF = \"\"\"\n",
    "<mujoco>\n",
    "  <asset>\n",
    "    <texture name=\"grid\" type=\"2d\" builtin=\"checker\" rgb1=\".1 .2 .3\"\n",
    "     rgb2=\".2 .3 .4\" width=\"300\" height=\"300\" mark=\"none\"/>\n",
    "    <material name=\"grid\" texture=\"grid\" texrepeat=\"6 6\"\n",
    "     texuniform=\"true\" reflectance=\".2\"/>\n",
    "     <material name=\"wall\" rgba='.5 .5 .5 1'/>\n",
    "  </asset>\n",
    "\n",
    "  <default>\n",
    "    <geom type=\"box\" size=\".05 .05 .05\" />\n",
    "    <joint type=\"free\"/>\n",
    "  </default>\n",
    "\n",
    "  <worldbody>\n",
    "    <light name=\"light\" pos=\"-.2 0 1\"/>\n",
    "    <geom name=\"ground\" type=\"plane\" size=\".5 .5 10\" material=\"grid\"\n",
    "     zaxis=\"-.3 0 1\" friction=\".1\"/> \n",
    "    <camera name=\"y\" pos=\"-.1 -.6 .3\" xyaxes=\"1 0 0 0 1 2\"/>\n",
    "    <body pos=\"0 0 .1\">\n",
    "      <joint/>\n",
    "      <geom/>\n",
    "    </body>\n",
    "    <body pos=\"0 .2 .1\">\n",
    "      <joint/>\n",
    "      <geom friction=\".33\"/>\n",
    "    </body>\n",
    "  </worldbody>\n",
    "\n",
    "</mujoco>\n",
    "\"\"\"\n",
    "n_frames = 60\n",
    "height = 300\n",
    "width = 300\n",
    "frames = []\n",
    "\n",
    "# load\n",
    "model = mujoco.MjModel.from_xml_string(MJCF)\n",
    "data = mujoco.MjData(model)\n",
    "renderer = mujoco.Renderer(model, height, width)\n",
    "\n",
    "# simulate and render\n",
    "mujoco.mj_resetData(model, data)\n",
    "for i in range(n_frames):\n",
    "  while data.time < i/30.0:\n",
    "    mujoco.mj_step(model, data)\n",
    "  renderer.update_scene(data, \"y\")\n",
    "  frame = renderer.render()\n",
    "  frames.append(frame)\n",
    "media.show_video(frames, fps=30)"
   ]
  },
  {
   "cell_type": "markdown",
   "metadata": {
    "id": "ArmmaPqGP6W7"
   },
   "source": [
    "# Tendons, actuators and sensors"
   ]
  },
  {
   "cell_type": "code",
   "execution_count": null,
   "metadata": {
    "id": "VJz84c97c8Df"
   },
   "outputs": [],
   "source": [
    "MJCF = \"\"\"\n",
    "<mujoco>\n",
    "  <asset>\n",
    "    <texture name=\"grid\" type=\"2d\" builtin=\"checker\" rgb1=\".1 .2 .3\"\n",
    "     rgb2=\".2 .3 .4\" width=\"300\" height=\"300\" mark=\"none\"/>\n",
    "    <material name=\"grid\" texture=\"grid\" texrepeat=\"1 1\"\n",
    "     texuniform=\"true\" reflectance=\".2\"/>\n",
    "  </asset>\n",
    "\n",
    "  <worldbody>\n",
    "    <light name=\"light\" pos=\"0 0 1\"/>\n",
    "    <geom name=\"floor\" type=\"plane\" pos=\"0 0 -.5\" size=\"2 2 .1\" material=\"grid\"/>\n",
    "    <site name=\"anchor\" pos=\"0 0 .3\" size=\".01\"/>\n",
    "    <camera name=\"fixed\" pos=\"0 -1.3 .5\" xyaxes=\"1 0 0 0 1 2\"/>\n",
    "\n",
    "    <geom name=\"pole\" type=\"cylinder\" fromto=\".3 0 -.5 .3 0 -.1\" size=\".04\"/>\n",
    "    <body name=\"bat\" pos=\".3 0 -.1\">\n",
    "      <joint name=\"swing\" type=\"hinge\" damping=\"1\" axis=\"0 0 1\"/>\n",
    "      <geom name=\"bat\" type=\"capsule\" fromto=\"0 0 .04 0 -.3 .04\"\n",
    "       size=\".04\" rgba=\"0 0 1 1\"/>\n",
    "    </body>\n",
    "\n",
    "    <body name=\"box_and_sphere\" pos=\"0 0 0\">\n",
    "      <joint name=\"free\" type=\"free\"/>\n",
    "      <geom name=\"red_box\" type=\"box\" size=\".1 .1 .1\" rgba=\"1 0 0 1\"/>\n",
    "      <geom name=\"green_sphere\"  size=\".06\" pos=\".1 .1 .1\" rgba=\"0 1 0 1\"/>\n",
    "      <site name=\"hook\" pos=\"-.1 -.1 -.1\" size=\".01\"/>\n",
    "      <site name=\"IMU\"/>\n",
    "    </body>\n",
    "  </worldbody>\n",
    "\n",
    "  <tendon>\n",
    "    <spatial name=\"wire\" limited=\"true\" range=\"0 0.35\" width=\"0.003\">\n",
    "      <site site=\"anchor\"/>\n",
    "      <site site=\"hook\"/>\n",
    "    </spatial>\n",
    "  </tendon>\n",
    "\n",
    "  <actuator>\n",
    "    <motor name=\"my_motor\" joint=\"swing\" gear=\"1\"/>\n",
    "  </actuator>\n",
    "\n",
    "  <sensor>\n",
    "    <accelerometer name=\"accelerometer\" site=\"IMU\"/>\n",
    "  </sensor>\n",
    "</mujoco>\n",
    "\"\"\"\n",
    "model = mujoco.MjModel.from_xml_string(MJCF)\n",
    "renderer = mujoco.Renderer(model, 480, 480)\n",
    "data = mujoco.MjData(model)\n",
    "mujoco.mj_forward(model, data)\n",
    "renderer.update_scene(data, \"fixed\")\n",
    "media.show_image(renderer.render())\n"
   ]
  },
  {
   "cell_type": "markdown",
   "metadata": {
    "id": "u8z2vrOr_RVD"
   },
   "source": [
    "actuated bat and passive \"piñata\":"
   ]
  },
  {
   "cell_type": "code",
   "execution_count": null,
   "metadata": {
    "id": "z-zoBCuBv2Xi"
   },
   "outputs": [],
   "source": [
    "n_frames = 180\n",
    "height = 240\n",
    "width = 320\n",
    "frames = []\n",
    "fps = 60.0\n",
    "times = []\n",
    "sensordata = []\n",
    "\n",
    "renderer = mujoco.Renderer(model, height, width)\n",
    "\n",
    "# constant actuator signal\n",
    "mujoco.mj_resetData(model, data)\n",
    "data.ctrl = 20\n",
    "\n",
    "# simulate and render\n",
    "for i in range(n_frames):\n",
    "  while data.time < i/fps:\n",
    "    mujoco.mj_step(model, data)\n",
    "    times.append(data.time)\n",
    "    sensordata.append(data.sensor('accelerometer').data.copy())\n",
    "  renderer.update_scene(data, \"fixed\")\n",
    "  frame = renderer.render()\n",
    "  frames.append(frame)\n",
    "\n",
    "media.show_video(frames, fps=fps)"
   ]
  },
  {
   "cell_type": "markdown",
   "metadata": {
    "id": "gwHMy_iRA7Jh"
   },
   "source": [
    "Let's plot the values measured by our accelerometer sensor:"
   ]
  },
  {
   "cell_type": "code",
   "execution_count": null,
   "metadata": {
    "id": "uy4wSEMAAJgn"
   },
   "outputs": [],
   "source": [
    "ax = plt.gca()\n",
    "\n",
    "ax.plot(np.asarray(times), np.asarray(sensordata), label='timestep = {:2.2g}ms'.format(1000*dt))\n",
    "\n",
    "# finalize plot\n",
    "ax.set_title('Accelerometer values')\n",
    "ax.set_ylabel('meter/second^2')\n",
    "ax.set_xlabel('second')\n",
    "ax.legend(frameon=True, loc='lower right');\n",
    "plt.tight_layout()"
   ]
  },
  {
   "cell_type": "markdown",
   "metadata": {
    "id": "0YKSTtJ_BQ7x"
   },
   "source": [
    "Note how the moments when the body is hit by the bat are clearly visible in the accelerometer measurements."
   ]
  },
  {
   "cell_type": "markdown",
   "metadata": {
    "id": "1kOs1wTc7uCZ"
   },
   "source": [
    "# Advanced rendering\n",
    "\n",
    "Like joint visualization, additional rendering options are exposed as parameters to the `render` method.\n",
    "\n",
    "Let's bring back our first model:"
   ]
  },
  {
   "cell_type": "code",
   "execution_count": null,
   "metadata": {
    "id": "mTDgsk2xcgwH"
   },
   "outputs": [],
   "source": [
    "xml = \"\"\"\n",
    "<mujoco>\n",
    "  <worldbody>\n",
    "    <light name=\"top\" pos=\"0 0 1\"/>\n",
    "    <body name=\"box_and_sphere\" euler=\"0 0 -30\">\n",
    "      <joint name=\"swing\" type=\"hinge\" axis=\"1 -1 0\" pos=\"-.2 -.2 -.2\"/>\n",
    "      <geom name=\"red_box\" type=\"box\" size=\".2 .2 .2\" rgba=\"1 0 0 1\"/>\n",
    "      <geom name=\"green_sphere\" pos=\".2 .2 .2\" size=\".1\" rgba=\"0 1 0 1\"/>\n",
    "    </body>\n",
    "  </worldbody>\n",
    "</mujoco>\n",
    "\"\"\"\n",
    "model = mujoco.MjModel.from_xml_string(xml)\n",
    "renderer = mujoco.Renderer(model)\n",
    "data = mujoco.MjData(model)\n",
    "\n",
    "mujoco.mj_forward(model, data)\n",
    "renderer.update_scene(data)\n",
    "media.show_image(renderer.render())"
   ]
  },
  {
   "cell_type": "code",
   "execution_count": null,
   "metadata": {
    "id": "VePXamL_6XUc"
   },
   "outputs": [],
   "source": [
    "#@title Enable transparency and frame visualization\n",
    "\n",
    "scene_option.frame = mujoco.mjtFrame.mjFRAME_GEOM\n",
    "scene_option.flags[mujoco.mjtVisFlag.mjVIS_TRANSPARENT] = True\n",
    "renderer.update_scene(data, scene_option=scene_option)\n",
    "frame = renderer.render()\n",
    "media.show_image(frame)"
   ]
  },
  {
   "cell_type": "code",
   "execution_count": null,
   "metadata": {
    "id": "PVcpcvww9lZ8"
   },
   "outputs": [],
   "source": [
    "#@title Depth rendering\n",
    "\n",
    "# update renderer to render depth\n",
    "renderer.enable_depth_rendering()\n",
    "\n",
    "# reset the scene\n",
    "renderer.update_scene(data)\n",
    "\n",
    "# depth is a float array, in meters.\n",
    "depth = renderer.render()\n",
    "\n",
    "# Shift nearest values to the origin.\n",
    "depth -= depth.min()\n",
    "# Scale by 2 mean distances of near rays.\n",
    "depth /= 2*depth[depth <= 1].mean()\n",
    "# Scale to [0, 255]\n",
    "pixels = 255*np.clip(depth, 0, 1)\n",
    "\n",
    "media.show_image(pixels.astype(np.uint8))\n",
    "\n",
    "renderer.disable_depth_rendering()"
   ]
  },
  {
   "cell_type": "code",
   "execution_count": null,
   "metadata": {
    "id": "PNwiIrgpx7T8"
   },
   "outputs": [],
   "source": [
    "#@title Segmentation rendering\n",
    "\n",
    "# update renderer to render segmentation\n",
    "renderer.enable_segmentation_rendering()\n",
    "\n",
    "# reset the scene\n",
    "renderer.update_scene(data)\n",
    "\n",
    "seg = renderer.render()\n",
    "\n",
    "# Display the contents of the first channel, which contains object\n",
    "# IDs. The second channel, seg[:, :, 1], contains object types.\n",
    "geom_ids = seg[:, :, 0]\n",
    "# Infinity is mapped to -1\n",
    "geom_ids = geom_ids.astype(np.float64) + 1\n",
    "# Scale to [0, 1]\n",
    "geom_ids = geom_ids / geom_ids.max()\n",
    "pixels = 255*geom_ids\n",
    "media.show_image(pixels.astype(np.uint8))\n",
    "\n",
    "renderer.disable_segmentation_rendering()"
   ]
  },
  {
   "cell_type": "markdown",
   "metadata": {
    "id": "wo72mo0mGIXr"
   },
   "source": [
    "## The camera matrix\n",
    "\n",
    "For a description of the camera matrix see the article [Camera matrix](https://en.wikipedia.org/wiki/Camera_matrix) on Wikipedia."
   ]
  },
  {
   "cell_type": "code",
   "execution_count": null,
   "metadata": {
    "id": "sDYwClpxaxab"
   },
   "outputs": [],
   "source": [
    "def compute_camera_matrix(renderer, data):\n",
    "  \"\"\"Returns the 3x4 camera matrix.\"\"\"\n",
    "  # If the camera is a 'free' camera, we get its position and orientation\n",
    "  # from the scene data structure. It is a stereo camera, so we average over\n",
    "  # the left and right channels. Note: we call `self.update()` in order to\n",
    "  # ensure that the contents of `scene.camera` are correct.\n",
    "  renderer.update_scene(data)\n",
    "  pos = np.mean([camera.pos for camera in renderer.scene.camera], axis=0)\n",
    "  z = -np.mean([camera.forward for camera in renderer.scene.camera], axis=0)\n",
    "  y = np.mean([camera.up for camera in renderer.scene.camera], axis=0)\n",
    "  rot = np.vstack((np.cross(y, z), y, z))\n",
    "  fov = model.vis.global_.fovy\n",
    "\n",
    "  # Translation matrix (4x4).\n",
    "  translation = np.eye(4)\n",
    "  translation[0:3, 3] = -pos\n",
    "\n",
    "  # Rotation matrix (4x4).\n",
    "  rotation = np.eye(4)\n",
    "  rotation[0:3, 0:3] = rot\n",
    "\n",
    "  # Focal transformation matrix (3x4).\n",
    "  focal_scaling = (1./np.tan(np.deg2rad(fov)/2)) * renderer.height / 2.0\n",
    "  focal = np.diag([-focal_scaling, focal_scaling, 1.0, 0])[0:3, :]\n",
    "\n",
    "  # Image matrix (3x3).\n",
    "  image = np.eye(3)\n",
    "  image[0, 2] = (renderer.width - 1) / 2.0\n",
    "  image[1, 2] = (renderer.height - 1) / 2.0\n",
    "  return image @ focal @ rotation @ translation"
   ]
  },
  {
   "cell_type": "markdown",
   "metadata": {
    "id": "Bs89vS0wLoU0"
   },
   "source": [
    "Let's use the camera matrix to project from world to camera coordinates:"
   ]
  },
  {
   "cell_type": "code",
   "execution_count": null,
   "metadata": {
    "id": "My0N4_7PDJ_q"
   },
   "outputs": [],
   "source": [
    "# reset the scene\n",
    "renderer.update_scene(data)\n",
    "\n",
    "\n",
    "# Get the world coordinates of the box corners\n",
    "box_pos = data.geom_xpos[model.geom('red_box').id]\n",
    "box_mat = data.geom_xmat[model.geom('red_box').id].reshape(3, 3)\n",
    "box_size = model.geom_size[model.geom('red_box').id]\n",
    "offsets = np.array([-1, 1]) * box_size[:, None]\n",
    "xyz_local = np.stack(list(itertools.product(*offsets))).T\n",
    "xyz_global = box_pos[:, None] + box_mat @ xyz_local\n",
    "\n",
    "# Camera matrices multiply homogenous [x, y, z, 1] vectors.\n",
    "corners_homogeneous = np.ones((4, xyz_global.shape[1]), dtype=float)\n",
    "corners_homogeneous[:3, :] = xyz_global\n",
    "\n",
    "# Get the camera matrix.\n",
    "m = compute_camera_matrix(renderer, data)\n",
    "\n",
    "# Project world coordinates into pixel space. See:\n",
    "# https://en.wikipedia.org/wiki/3D_projection#Mathematical_formula\n",
    "xs, ys, s = m @ corners_homogeneous\n",
    "# x and y are in the pixel coordinate system.\n",
    "x = xs / s\n",
    "y = ys / s\n",
    "\n",
    "# Render the camera view and overlay the projected corner coordinates.\n",
    "pixels = renderer.render()\n",
    "fig, ax = plt.subplots(1, 1)\n",
    "ax.imshow(pixels)\n",
    "ax.plot(x, y, '+', c='w')\n",
    "ax.set_axis_off()"
   ]
  },
  {
   "cell_type": "markdown",
   "metadata": {
    "id": "AGm5-e0sHEAF"
   },
   "source": [
    "## Modifying the scene\n",
    "\n",
    "Let's add some arbitrary geometry to the `mjvScene`."
   ]
  },
  {
   "cell_type": "code",
   "execution_count": null,
   "metadata": {
    "id": "Z6NDYJ8IOVt7"
   },
   "outputs": [],
   "source": [
    "def get_geom_speed(model, data, geom_name):\n",
    "  \"\"\"Returns the speed of a geom.\"\"\"\n",
    "  geom_vel = np.zeros(6)\n",
    "  geom_type = mujoco.mjtObj.mjOBJ_GEOM\n",
    "  geom_id = data.geom(geom_name).id\n",
    "  mujoco.mj_objectVelocity(model, data, geom_type, geom_id, geom_vel, 0)\n",
    "  return np.linalg.norm(geom_vel)\n",
    "\n",
    "def add_visual_capsule(scene, point1, point2, radius, rgba):\n",
    "  \"\"\"Adds one capsule to an mjvScene.\"\"\"\n",
    "  if scene.ngeom >= scene.maxgeom:\n",
    "    return\n",
    "  scene.ngeom += 1  # increment ngeom\n",
    "  # initialise a new capsule, add it to the scene using mjv_makeConnector\n",
    "  mujoco.mjv_initGeom(scene.geoms[scene.ngeom-1],\n",
    "                      mujoco.mjtGeom.mjGEOM_CAPSULE, np.zeros(3),\n",
    "                      np.zeros(3), np.zeros(9), rgba.astype(np.float32))\n",
    "  mujoco.mjv_makeConnector(scene.geoms[scene.ngeom-1],\n",
    "                           mujoco.mjtGeom.mjGEOM_CAPSULE, radius,\n",
    "                           point1[0], point1[1], point1[2],\n",
    "                           point2[0], point2[1], point2[2])\n",
    "\n",
    " # traces of time, position and speed\n",
    "times = []\n",
    "positions = []\n",
    "speeds = []\n",
    "offset = model.jnt_axis[0]/8  # offset along the joint axis\n",
    "\n",
    "def modify_scene(scn):\n",
    "  \"\"\"Draw position trace, speed modifies width and colors.\"\"\"\n",
    "  if len(positions) > 1:\n",
    "    for i in range(len(positions)-1):\n",
    "      rgba=np.array((np.clip(speeds[i]/10, 0, 1),\n",
    "                     np.clip(1-speeds[i]/10, 0, 1),\n",
    "                     .5, 1.))\n",
    "      radius=.003*(1+speeds[i])\n",
    "      point1 = positions[i] + offset*times[i]\n",
    "      point2 = positions[i+1] + offset*times[i+1]\n",
    "      add_visual_capsule(scn, point1, point2, radius, rgba)\n",
    "\n",
    "duration = 6    # (seconds)\n",
    "framerate = 30  # (Hz)\n",
    "\n",
    "# Simulate and display video.\n",
    "frames = []\n",
    "\n",
    "# Reset state and time.\n",
    "mujoco.mj_resetData(model, data)\n",
    "mujoco.mj_forward(model, data)\n",
    "\n",
    "while data.time < duration:\n",
    "  # append data to the traces\n",
    "  positions.append(data.geom_xpos[data.geom(\"green_sphere\").id].copy())\n",
    "  times.append(data.time)\n",
    "  speeds.append(get_geom_speed(model, data, \"green_sphere\"))\n",
    "  mujoco.mj_step(model, data)\n",
    "  if len(frames) < data.time * framerate:\n",
    "    renderer.update_scene(data)\n",
    "    modify_scene(renderer.scene)\n",
    "    pixels = renderer.render()\n",
    "    frames.append(pixels)\n",
    "media.show_video(frames, fps=framerate)"
   ]
  }
 ],
 "metadata": {
  "accelerator": "GPU",
  "colab": {
   "collapsed_sections": [
    "-re3Szx-1Ias"
   ],
   "private_outputs": true,
   "provenance": [],
   "toc_visible": true
  },
  "gpuClass": "premium",
  "kernelspec": {
   "display_name": "Python 3 (ipykernel)",
   "language": "python",
   "name": "python3"
  },
  "language_info": {
   "codemirror_mode": {
    "name": "ipython",
    "version": 3
   },
   "file_extension": ".py",
   "mimetype": "text/x-python",
   "name": "python",
   "nbconvert_exporter": "python",
   "pygments_lexer": "ipython3",
   "version": "3.10.12"
  }
 },
 "nbformat": 4,
 "nbformat_minor": 1
}
